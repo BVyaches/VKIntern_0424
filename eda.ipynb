{
 "cells": [
  {
   "cell_type": "code",
   "execution_count": 115,
   "id": "45e0ca633c9472f1",
   "metadata": {
    "collapsed": false,
    "ExecuteTime": {
     "end_time": "2024-04-28T17:24:51.522863700Z",
     "start_time": "2024-04-28T17:24:51.516237300Z"
    }
   },
   "outputs": [],
   "source": [
    "import pandas as pd\n",
    "import numpy as np\n",
    "import seaborn as sns"
   ]
  },
  {
   "cell_type": "code",
   "outputs": [
    {
     "data": {
      "text/plain": "        rank  query_id  feature_0  feature_1  feature_2  feature_3  feature_4  \\\n0          0        10        1.0        0.0        1.0        3.0        3.0   \n1          1        10        3.0        0.0        3.0        0.0        3.0   \n2          0        10        3.0        0.0        2.0        0.0        3.0   \n3          1        10        3.0        0.0        3.0        0.0        3.0   \n4          2        10        3.0        0.0        3.0        1.0        3.0   \n...      ...       ...        ...        ...        ...        ...        ...   \n235253     2     29995        1.0        0.0        0.0        0.0        1.0   \n235254     2     29995        1.0        0.0        1.0        0.0        1.0   \n235255     1     29995        1.0        0.0        0.0        0.0        1.0   \n235256     2     29995        0.0        0.0        0.0        0.0        0.0   \n235257     1     29995        0.0        0.0        0.0        0.0        0.0   \n\n        feature_5  feature_6  feature_7  ...  feature_134  feature_135  \\\n0        0.333333        0.0   0.333333  ...          0.0     0.000000   \n1        1.000000        0.0   1.000000  ...          0.0     0.000000   \n2        1.000000        0.0   0.666667  ...          0.0     0.000000   \n3        1.000000        0.0   1.000000  ...          0.0     0.000000   \n4        1.000000        0.0   1.000000  ...        273.0    79.670665   \n...           ...        ...        ...  ...          ...          ...   \n235253   0.500000        0.0   0.000000  ...          0.0     0.000000   \n235254   0.500000        0.0   0.500000  ...          0.0     0.000000   \n235255   0.500000        0.0   0.000000  ...          0.0     0.000000   \n235256   0.000000        0.0   0.000000  ...          0.0     0.000000   \n235257   0.000000        0.0   0.000000  ...          0.0     0.000000   \n\n        feature_136  feature_137  feature_138  feature_139  feature_140  \\\n0          0.454545     0.890238     8.655534     1.000000     0.077778   \n1          0.000000     0.773976    23.130514     0.000000     0.027826   \n2          0.000000     0.918308    13.351339     0.000000     0.014925   \n3          0.000000     0.975355    18.240926     0.000000     0.053140   \n4          0.200000     0.990119    31.786048     0.333333     0.046512   \n...             ...          ...          ...          ...          ...   \n235253     0.000000     0.471409     0.000000     0.000000     0.001350   \n235254     0.000000     0.471409    39.908056     0.000000     0.004850   \n235255     0.000000     0.471409     0.000000     0.000000     0.001064   \n235256     0.000000     0.000000     0.000000     0.000000     0.000000   \n235257     0.000000     0.000000     0.000000     0.000000     0.000000   \n\n        feature_141  feature_142  feature_143  \n0          0.002222          1.0     0.333333  \n1          0.000430         44.0    14.666667  \n2          0.000104         22.0     7.333333  \n3          0.000255          8.0     2.666667  \n4          0.000307         24.0     8.000000  \n...             ...          ...          ...  \n235253     0.000002          3.0     1.500000  \n235254     0.000014          9.0     4.500000  \n235255     0.000001          1.0     0.500000  \n235256     0.000000          0.0     0.000000  \n235257     0.000000          0.0     0.000000  \n\n[235258 rows x 146 columns]",
      "text/html": "<div>\n<style scoped>\n    .dataframe tbody tr th:only-of-type {\n        vertical-align: middle;\n    }\n\n    .dataframe tbody tr th {\n        vertical-align: top;\n    }\n\n    .dataframe thead th {\n        text-align: right;\n    }\n</style>\n<table border=\"1\" class=\"dataframe\">\n  <thead>\n    <tr style=\"text-align: right;\">\n      <th></th>\n      <th>rank</th>\n      <th>query_id</th>\n      <th>feature_0</th>\n      <th>feature_1</th>\n      <th>feature_2</th>\n      <th>feature_3</th>\n      <th>feature_4</th>\n      <th>feature_5</th>\n      <th>feature_6</th>\n      <th>feature_7</th>\n      <th>...</th>\n      <th>feature_134</th>\n      <th>feature_135</th>\n      <th>feature_136</th>\n      <th>feature_137</th>\n      <th>feature_138</th>\n      <th>feature_139</th>\n      <th>feature_140</th>\n      <th>feature_141</th>\n      <th>feature_142</th>\n      <th>feature_143</th>\n    </tr>\n  </thead>\n  <tbody>\n    <tr>\n      <th>0</th>\n      <td>0</td>\n      <td>10</td>\n      <td>1.0</td>\n      <td>0.0</td>\n      <td>1.0</td>\n      <td>3.0</td>\n      <td>3.0</td>\n      <td>0.333333</td>\n      <td>0.0</td>\n      <td>0.333333</td>\n      <td>...</td>\n      <td>0.0</td>\n      <td>0.000000</td>\n      <td>0.454545</td>\n      <td>0.890238</td>\n      <td>8.655534</td>\n      <td>1.000000</td>\n      <td>0.077778</td>\n      <td>0.002222</td>\n      <td>1.0</td>\n      <td>0.333333</td>\n    </tr>\n    <tr>\n      <th>1</th>\n      <td>1</td>\n      <td>10</td>\n      <td>3.0</td>\n      <td>0.0</td>\n      <td>3.0</td>\n      <td>0.0</td>\n      <td>3.0</td>\n      <td>1.000000</td>\n      <td>0.0</td>\n      <td>1.000000</td>\n      <td>...</td>\n      <td>0.0</td>\n      <td>0.000000</td>\n      <td>0.000000</td>\n      <td>0.773976</td>\n      <td>23.130514</td>\n      <td>0.000000</td>\n      <td>0.027826</td>\n      <td>0.000430</td>\n      <td>44.0</td>\n      <td>14.666667</td>\n    </tr>\n    <tr>\n      <th>2</th>\n      <td>0</td>\n      <td>10</td>\n      <td>3.0</td>\n      <td>0.0</td>\n      <td>2.0</td>\n      <td>0.0</td>\n      <td>3.0</td>\n      <td>1.000000</td>\n      <td>0.0</td>\n      <td>0.666667</td>\n      <td>...</td>\n      <td>0.0</td>\n      <td>0.000000</td>\n      <td>0.000000</td>\n      <td>0.918308</td>\n      <td>13.351339</td>\n      <td>0.000000</td>\n      <td>0.014925</td>\n      <td>0.000104</td>\n      <td>22.0</td>\n      <td>7.333333</td>\n    </tr>\n    <tr>\n      <th>3</th>\n      <td>1</td>\n      <td>10</td>\n      <td>3.0</td>\n      <td>0.0</td>\n      <td>3.0</td>\n      <td>0.0</td>\n      <td>3.0</td>\n      <td>1.000000</td>\n      <td>0.0</td>\n      <td>1.000000</td>\n      <td>...</td>\n      <td>0.0</td>\n      <td>0.000000</td>\n      <td>0.000000</td>\n      <td>0.975355</td>\n      <td>18.240926</td>\n      <td>0.000000</td>\n      <td>0.053140</td>\n      <td>0.000255</td>\n      <td>8.0</td>\n      <td>2.666667</td>\n    </tr>\n    <tr>\n      <th>4</th>\n      <td>2</td>\n      <td>10</td>\n      <td>3.0</td>\n      <td>0.0</td>\n      <td>3.0</td>\n      <td>1.0</td>\n      <td>3.0</td>\n      <td>1.000000</td>\n      <td>0.0</td>\n      <td>1.000000</td>\n      <td>...</td>\n      <td>273.0</td>\n      <td>79.670665</td>\n      <td>0.200000</td>\n      <td>0.990119</td>\n      <td>31.786048</td>\n      <td>0.333333</td>\n      <td>0.046512</td>\n      <td>0.000307</td>\n      <td>24.0</td>\n      <td>8.000000</td>\n    </tr>\n    <tr>\n      <th>...</th>\n      <td>...</td>\n      <td>...</td>\n      <td>...</td>\n      <td>...</td>\n      <td>...</td>\n      <td>...</td>\n      <td>...</td>\n      <td>...</td>\n      <td>...</td>\n      <td>...</td>\n      <td>...</td>\n      <td>...</td>\n      <td>...</td>\n      <td>...</td>\n      <td>...</td>\n      <td>...</td>\n      <td>...</td>\n      <td>...</td>\n      <td>...</td>\n      <td>...</td>\n      <td>...</td>\n    </tr>\n    <tr>\n      <th>235253</th>\n      <td>2</td>\n      <td>29995</td>\n      <td>1.0</td>\n      <td>0.0</td>\n      <td>0.0</td>\n      <td>0.0</td>\n      <td>1.0</td>\n      <td>0.500000</td>\n      <td>0.0</td>\n      <td>0.000000</td>\n      <td>...</td>\n      <td>0.0</td>\n      <td>0.000000</td>\n      <td>0.000000</td>\n      <td>0.471409</td>\n      <td>0.000000</td>\n      <td>0.000000</td>\n      <td>0.001350</td>\n      <td>0.000002</td>\n      <td>3.0</td>\n      <td>1.500000</td>\n    </tr>\n    <tr>\n      <th>235254</th>\n      <td>2</td>\n      <td>29995</td>\n      <td>1.0</td>\n      <td>0.0</td>\n      <td>1.0</td>\n      <td>0.0</td>\n      <td>1.0</td>\n      <td>0.500000</td>\n      <td>0.0</td>\n      <td>0.500000</td>\n      <td>...</td>\n      <td>0.0</td>\n      <td>0.000000</td>\n      <td>0.000000</td>\n      <td>0.471409</td>\n      <td>39.908056</td>\n      <td>0.000000</td>\n      <td>0.004850</td>\n      <td>0.000014</td>\n      <td>9.0</td>\n      <td>4.500000</td>\n    </tr>\n    <tr>\n      <th>235255</th>\n      <td>1</td>\n      <td>29995</td>\n      <td>1.0</td>\n      <td>0.0</td>\n      <td>0.0</td>\n      <td>0.0</td>\n      <td>1.0</td>\n      <td>0.500000</td>\n      <td>0.0</td>\n      <td>0.000000</td>\n      <td>...</td>\n      <td>0.0</td>\n      <td>0.000000</td>\n      <td>0.000000</td>\n      <td>0.471409</td>\n      <td>0.000000</td>\n      <td>0.000000</td>\n      <td>0.001064</td>\n      <td>0.000001</td>\n      <td>1.0</td>\n      <td>0.500000</td>\n    </tr>\n    <tr>\n      <th>235256</th>\n      <td>2</td>\n      <td>29995</td>\n      <td>0.0</td>\n      <td>0.0</td>\n      <td>0.0</td>\n      <td>0.0</td>\n      <td>0.0</td>\n      <td>0.000000</td>\n      <td>0.0</td>\n      <td>0.000000</td>\n      <td>...</td>\n      <td>0.0</td>\n      <td>0.000000</td>\n      <td>0.000000</td>\n      <td>0.000000</td>\n      <td>0.000000</td>\n      <td>0.000000</td>\n      <td>0.000000</td>\n      <td>0.000000</td>\n      <td>0.0</td>\n      <td>0.000000</td>\n    </tr>\n    <tr>\n      <th>235257</th>\n      <td>1</td>\n      <td>29995</td>\n      <td>0.0</td>\n      <td>0.0</td>\n      <td>0.0</td>\n      <td>0.0</td>\n      <td>0.0</td>\n      <td>0.000000</td>\n      <td>0.0</td>\n      <td>0.000000</td>\n      <td>...</td>\n      <td>0.0</td>\n      <td>0.000000</td>\n      <td>0.000000</td>\n      <td>0.000000</td>\n      <td>0.000000</td>\n      <td>0.000000</td>\n      <td>0.000000</td>\n      <td>0.000000</td>\n      <td>0.0</td>\n      <td>0.000000</td>\n    </tr>\n  </tbody>\n</table>\n<p>235258 rows × 146 columns</p>\n</div>"
     },
     "execution_count": 116,
     "metadata": {},
     "output_type": "execute_result"
    }
   ],
   "source": [
    "\n",
    "df = pd.read_csv('intern_task.csv', sep=',')\n",
    "df"
   ],
   "metadata": {
    "collapsed": true,
    "ExecuteTime": {
     "end_time": "2024-04-28T17:24:55.982760100Z",
     "start_time": "2024-04-28T17:24:52.336526600Z"
    }
   },
   "id": "initial_id",
   "execution_count": 116
  },
  {
   "cell_type": "code",
   "outputs": [
    {
     "data": {
      "text/plain": "(235258, 146)"
     },
     "execution_count": 117,
     "metadata": {},
     "output_type": "execute_result"
    }
   ],
   "source": [
    "df = df.dropna()\n",
    "df.shape"
   ],
   "metadata": {
    "collapsed": false,
    "ExecuteTime": {
     "end_time": "2024-04-28T17:24:56.130869800Z",
     "start_time": "2024-04-28T17:24:55.984822100Z"
    }
   },
   "id": "2a7b3757732ac69e",
   "execution_count": 117
  },
  {
   "cell_type": "code",
   "outputs": [
    {
     "data": {
      "text/plain": "<Axes: xlabel='rank', ylabel='Count'>"
     },
     "execution_count": 118,
     "metadata": {},
     "output_type": "execute_result"
    },
    {
     "data": {
      "text/plain": "<Figure size 640x480 with 1 Axes>",
      "image/png": "[encoded data removed]"
     },
     "metadata": {},
     "output_type": "display_data"
    }
   ],
   "source": [
    "sns.histplot(df['rank'])"
   ],
   "metadata": {
    "collapsed": false,
    "ExecuteTime": {
     "end_time": "2024-04-28T17:24:56.661030600Z",
     "start_time": "2024-04-28T17:24:56.175232900Z"
    }
   },
   "id": "ad1765a64e6ddd88",
   "execution_count": 118
  },
  {
   "cell_type": "code",
   "outputs": [
    {
     "name": "stdout",
     "output_type": "stream",
     "text": [
      "Среднее количество документво для запроса\n",
      "117.629\n"
     ]
    }
   ],
   "source": [
    "print('Среднее количество документво для запроса')\n",
    "print(np.mean(df['query_id'].value_counts()))"
   ],
   "metadata": {
    "collapsed": false,
    "ExecuteTime": {
     "end_time": "2024-04-28T17:25:16.737124900Z",
     "start_time": "2024-04-28T17:25:16.714906800Z"
    }
   },
   "id": "8be4beef666562fd",
   "execution_count": 119
  },
  {
   "cell_type": "code",
   "outputs": [
    {
     "name": "stdout",
     "output_type": "stream",
     "text": [
      "Датасет не содержит пропущенных значений.\n",
      "(164678, 146)\n",
      "(164678, 144)\n"
     ]
    },
    {
     "data": {
      "text/plain": "        query_id         0    1         2         3         4    5    6  \\\n0             10  0.096774  0.0  0.125000  0.000000  0.096774  1.0  0.0   \n1             10  0.096774  0.0  0.125000  0.000000  0.096774  1.0  0.0   \n2             10  0.096774  0.0  0.083333  0.000000  0.096774  1.0  0.0   \n3             10  0.096774  0.0  0.125000  0.000000  0.096774  1.0  0.0   \n4             10  0.096774  0.0  0.125000  0.111111  0.096774  1.0  0.0   \n...          ...       ...  ...       ...       ...       ...  ...  ...   \n164673     29995  0.000000  0.0  0.000000  0.000000  0.000000  0.0  0.0   \n164674     29995  0.032258  0.0  0.000000  0.000000  0.032258  0.5  0.0   \n164675     29995  0.000000  0.0  0.000000  0.000000  0.000000  0.0  0.0   \n164676     29995  0.032258  0.0  0.041667  0.111111  0.032258  0.5  0.0   \n164677     29995  0.032258  0.0  0.000000  0.000000  0.032258  0.5  0.0   \n\n               7         8  ...       134           135       136       137  \\\n0       1.000000  0.000004  ...  0.000000  0.000000e+00  0.000000  0.773976   \n1       1.000000  0.000170  ...  0.000000  0.000000e+00  0.000000  0.999828   \n2       0.666667  0.000298  ...  0.000000  0.000000e+00  0.000000  0.998916   \n3       1.000000  0.000217  ...  0.000103  9.963206e-08  0.000000  0.875521   \n4       1.000000  0.000123  ...  0.000000  0.000000e+00  0.152778  0.998223   \n...          ...       ...  ...       ...           ...       ...       ...   \n164673  0.000000  0.999804  ...  0.000000  0.000000e+00  0.000000  0.000000   \n164674  0.000000  0.999970  ...  0.000000  0.000000e+00  0.000000  0.471409   \n164675  0.000000  0.999783  ...  0.000000  0.000000e+00  0.000000  0.000000   \n164676  0.500000  0.999834  ...  0.000000  0.000000e+00  0.174603  0.471409   \n164677  0.000000  0.999847  ...  0.000000  0.000000e+00  0.000000  0.471409   \n\n             138       139       140       141       142       143  \n0       0.017773  0.000000  0.045052  0.001720  0.002919  0.019530  \n1       0.014016  0.000000  0.065416  0.000012  0.001924  0.012872  \n2       0.010259  0.000000  0.029234  0.000016  0.000730  0.004882  \n3       0.014016  0.000000  0.025298  0.000080  0.000398  0.002663  \n4       0.017625  0.333333  0.004401  0.000000  0.001260  0.008433  \n...          ...       ...       ...       ...       ...       ...  \n164673  0.000000  0.000000  0.000000  0.000000  0.000000  0.000000  \n164674  0.000000  0.000000  0.001687  0.000004  0.000066  0.000666  \n164675  0.000000  0.000000  0.000000  0.000000  0.000000  0.000000  \n164676  0.010222  0.500000  0.031916  0.001172  0.000597  0.005992  \n164677  0.000000  0.000000  0.005952  0.000060  0.000199  0.001997  \n\n[164678 rows x 145 columns]",
      "text/html": "<div>\n<style scoped>\n    .dataframe tbody tr th:only-of-type {\n        vertical-align: middle;\n    }\n\n    .dataframe tbody tr th {\n        vertical-align: top;\n    }\n\n    .dataframe thead th {\n        text-align: right;\n    }\n</style>\n<table border=\"1\" class=\"dataframe\">\n  <thead>\n    <tr style=\"text-align: right;\">\n      <th></th>\n      <th>query_id</th>\n      <th>0</th>\n      <th>1</th>\n      <th>2</th>\n      <th>3</th>\n      <th>4</th>\n      <th>5</th>\n      <th>6</th>\n      <th>7</th>\n      <th>8</th>\n      <th>...</th>\n      <th>134</th>\n      <th>135</th>\n      <th>136</th>\n      <th>137</th>\n      <th>138</th>\n      <th>139</th>\n      <th>140</th>\n      <th>141</th>\n      <th>142</th>\n      <th>143</th>\n    </tr>\n  </thead>\n  <tbody>\n    <tr>\n      <th>0</th>\n      <td>10</td>\n      <td>0.096774</td>\n      <td>0.0</td>\n      <td>0.125000</td>\n      <td>0.000000</td>\n      <td>0.096774</td>\n      <td>1.0</td>\n      <td>0.0</td>\n      <td>1.000000</td>\n      <td>0.000004</td>\n      <td>...</td>\n      <td>0.000000</td>\n      <td>0.000000e+00</td>\n      <td>0.000000</td>\n      <td>0.773976</td>\n      <td>0.017773</td>\n      <td>0.000000</td>\n      <td>0.045052</td>\n      <td>0.001720</td>\n      <td>0.002919</td>\n      <td>0.019530</td>\n    </tr>\n    <tr>\n      <th>1</th>\n      <td>10</td>\n      <td>0.096774</td>\n      <td>0.0</td>\n      <td>0.125000</td>\n      <td>0.000000</td>\n      <td>0.096774</td>\n      <td>1.0</td>\n      <td>0.0</td>\n      <td>1.000000</td>\n      <td>0.000170</td>\n      <td>...</td>\n      <td>0.000000</td>\n      <td>0.000000e+00</td>\n      <td>0.000000</td>\n      <td>0.999828</td>\n      <td>0.014016</td>\n      <td>0.000000</td>\n      <td>0.065416</td>\n      <td>0.000012</td>\n      <td>0.001924</td>\n      <td>0.012872</td>\n    </tr>\n    <tr>\n      <th>2</th>\n      <td>10</td>\n      <td>0.096774</td>\n      <td>0.0</td>\n      <td>0.083333</td>\n      <td>0.000000</td>\n      <td>0.096774</td>\n      <td>1.0</td>\n      <td>0.0</td>\n      <td>0.666667</td>\n      <td>0.000298</td>\n      <td>...</td>\n      <td>0.000000</td>\n      <td>0.000000e+00</td>\n      <td>0.000000</td>\n      <td>0.998916</td>\n      <td>0.010259</td>\n      <td>0.000000</td>\n      <td>0.029234</td>\n      <td>0.000016</td>\n      <td>0.000730</td>\n      <td>0.004882</td>\n    </tr>\n    <tr>\n      <th>3</th>\n      <td>10</td>\n      <td>0.096774</td>\n      <td>0.0</td>\n      <td>0.125000</td>\n      <td>0.000000</td>\n      <td>0.096774</td>\n      <td>1.0</td>\n      <td>0.0</td>\n      <td>1.000000</td>\n      <td>0.000217</td>\n      <td>...</td>\n      <td>0.000103</td>\n      <td>9.963206e-08</td>\n      <td>0.000000</td>\n      <td>0.875521</td>\n      <td>0.014016</td>\n      <td>0.000000</td>\n      <td>0.025298</td>\n      <td>0.000080</td>\n      <td>0.000398</td>\n      <td>0.002663</td>\n    </tr>\n    <tr>\n      <th>4</th>\n      <td>10</td>\n      <td>0.096774</td>\n      <td>0.0</td>\n      <td>0.125000</td>\n      <td>0.111111</td>\n      <td>0.096774</td>\n      <td>1.0</td>\n      <td>0.0</td>\n      <td>1.000000</td>\n      <td>0.000123</td>\n      <td>...</td>\n      <td>0.000000</td>\n      <td>0.000000e+00</td>\n      <td>0.152778</td>\n      <td>0.998223</td>\n      <td>0.017625</td>\n      <td>0.333333</td>\n      <td>0.004401</td>\n      <td>0.000000</td>\n      <td>0.001260</td>\n      <td>0.008433</td>\n    </tr>\n    <tr>\n      <th>...</th>\n      <td>...</td>\n      <td>...</td>\n      <td>...</td>\n      <td>...</td>\n      <td>...</td>\n      <td>...</td>\n      <td>...</td>\n      <td>...</td>\n      <td>...</td>\n      <td>...</td>\n      <td>...</td>\n      <td>...</td>\n      <td>...</td>\n      <td>...</td>\n      <td>...</td>\n      <td>...</td>\n      <td>...</td>\n      <td>...</td>\n      <td>...</td>\n      <td>...</td>\n      <td>...</td>\n    </tr>\n    <tr>\n      <th>164673</th>\n      <td>29995</td>\n      <td>0.000000</td>\n      <td>0.0</td>\n      <td>0.000000</td>\n      <td>0.000000</td>\n      <td>0.000000</td>\n      <td>0.0</td>\n      <td>0.0</td>\n      <td>0.000000</td>\n      <td>0.999804</td>\n      <td>...</td>\n      <td>0.000000</td>\n      <td>0.000000e+00</td>\n      <td>0.000000</td>\n      <td>0.000000</td>\n      <td>0.000000</td>\n      <td>0.000000</td>\n      <td>0.000000</td>\n      <td>0.000000</td>\n      <td>0.000000</td>\n      <td>0.000000</td>\n    </tr>\n    <tr>\n      <th>164674</th>\n      <td>29995</td>\n      <td>0.032258</td>\n      <td>0.0</td>\n      <td>0.000000</td>\n      <td>0.000000</td>\n      <td>0.032258</td>\n      <td>0.5</td>\n      <td>0.0</td>\n      <td>0.000000</td>\n      <td>0.999970</td>\n      <td>...</td>\n      <td>0.000000</td>\n      <td>0.000000e+00</td>\n      <td>0.000000</td>\n      <td>0.471409</td>\n      <td>0.000000</td>\n      <td>0.000000</td>\n      <td>0.001687</td>\n      <td>0.000004</td>\n      <td>0.000066</td>\n      <td>0.000666</td>\n    </tr>\n    <tr>\n      <th>164675</th>\n      <td>29995</td>\n      <td>0.000000</td>\n      <td>0.0</td>\n      <td>0.000000</td>\n      <td>0.000000</td>\n      <td>0.000000</td>\n      <td>0.0</td>\n      <td>0.0</td>\n      <td>0.000000</td>\n      <td>0.999783</td>\n      <td>...</td>\n      <td>0.000000</td>\n      <td>0.000000e+00</td>\n      <td>0.000000</td>\n      <td>0.000000</td>\n      <td>0.000000</td>\n      <td>0.000000</td>\n      <td>0.000000</td>\n      <td>0.000000</td>\n      <td>0.000000</td>\n      <td>0.000000</td>\n    </tr>\n    <tr>\n      <th>164676</th>\n      <td>29995</td>\n      <td>0.032258</td>\n      <td>0.0</td>\n      <td>0.041667</td>\n      <td>0.111111</td>\n      <td>0.032258</td>\n      <td>0.5</td>\n      <td>0.0</td>\n      <td>0.500000</td>\n      <td>0.999834</td>\n      <td>...</td>\n      <td>0.000000</td>\n      <td>0.000000e+00</td>\n      <td>0.174603</td>\n      <td>0.471409</td>\n      <td>0.010222</td>\n      <td>0.500000</td>\n      <td>0.031916</td>\n      <td>0.001172</td>\n      <td>0.000597</td>\n      <td>0.005992</td>\n    </tr>\n    <tr>\n      <th>164677</th>\n      <td>29995</td>\n      <td>0.032258</td>\n      <td>0.0</td>\n      <td>0.000000</td>\n      <td>0.000000</td>\n      <td>0.032258</td>\n      <td>0.5</td>\n      <td>0.0</td>\n      <td>0.000000</td>\n      <td>0.999847</td>\n      <td>...</td>\n      <td>0.000000</td>\n      <td>0.000000e+00</td>\n      <td>0.000000</td>\n      <td>0.471409</td>\n      <td>0.000000</td>\n      <td>0.000000</td>\n      <td>0.005952</td>\n      <td>0.000060</td>\n      <td>0.000199</td>\n      <td>0.001997</td>\n    </tr>\n  </tbody>\n</table>\n<p>164678 rows × 145 columns</p>\n</div>"
     },
     "execution_count": 120,
     "metadata": {},
     "output_type": "execute_result"
    }
   ],
   "source": [
    "from sklearn.preprocessing import MinMaxScaler\n",
    "import pandas as pd\n",
    "import numpy as np\n",
    "from sklearn.model_selection import train_test_split\n",
    "from sklearn.metrics import ndcg_score\n",
    "from catboost import CatBoostRanker\n",
    "from catboost import Pool\n",
    "\n",
    "# Загрузка данных\n",
    "df = pd.read_csv('intern_task.csv')\n",
    "\n",
    "# Проверка датасета на наличие пропущенных значений\n",
    "if df.isnull().sum().sum() > 0:\n",
    "    print(\n",
    "        \"Датасет содержит пропущенные значения. Заполните или удалите их перед обучением модели.\")\n",
    "else:\n",
    "    print(\"Датасет не содержит пропущенных значений.\")\n",
    "df = df[df.groupby('query_id').query_id.transform(len) > 1]\n",
    "# Разделение данных на обучающую и тестовую выборки\n",
    "train, test = train_test_split(df, test_size=0.3, random_state=42,\n",
    "                               stratify=df['query_id'])\n",
    "print(train.shape)\n",
    "train = train.sort_values(['query_id'])\n",
    "test = test.sort_values(['query_id'])\n",
    "# Удаление групп с одним документом\n",
    "#test = test[test.groupby('query_id')['query_id'].transform('count') > 1]\n",
    "scaler = MinMaxScaler()\n",
    "train_scaled = scaler.fit_transform(train.drop(['rank', 'query_id'], axis=1))\n",
    "print(train_scaled.shape)\n",
    "test_scaled = scaler.transform(test.drop(['rank', 'query_id'], axis=1))\n",
    "train_scaled = pd.concat([train['query_id'].reset_index(), pd.DataFrame(train_scaled)], axis=1).drop(columns=['index'])\n",
    "test_scaled = pd.concat([test['query_id'].reset_index(), pd.DataFrame(test_scaled)], axis=1).drop(columns=['index'])\n",
    "train_scaled"
   ],
   "metadata": {
    "collapsed": false,
    "ExecuteTime": {
     "end_time": "2024-04-28T17:26:47.376780600Z",
     "start_time": "2024-04-28T17:26:42.957437100Z"
    }
   },
   "id": "2b2e213999f55645",
   "execution_count": 120
  },
  {
   "cell_type": "code",
   "outputs": [],
   "source": [
    "train_pool = Pool(train_scaled, label=train['rank'], group_id=train_scaled['query_id'])\n",
    "test_pool = Pool(test_scaled, label=test['rank'], group_id=test_scaled['query_id'])"
   ],
   "metadata": {
    "collapsed": false,
    "ExecuteTime": {
     "end_time": "2024-04-28T17:27:25.480864200Z",
     "start_time": "2024-04-28T17:27:25.466062800Z"
    }
   },
   "id": "6c18f748e8b55592",
   "execution_count": 122
  },
  {
   "cell_type": "code",
   "outputs": [
    {
     "data": {
      "text/plain": "MetricVisualizer(layout=Layout(align_self='stretch', height='500px'))",
      "application/vnd.jupyter.widget-view+json": {
       "version_major": 2,
       "version_minor": 0,
       "model_id": "544b855615e34fd1b8f50e0c20f9016d"
      }
     },
     "metadata": {},
     "output_type": "display_data"
    },
    {
     "name": "stderr",
     "output_type": "stream",
     "text": [
      "Default metric period is 5 because PFound, MAP, NDCG is/are not implemented for GPU\n",
      "Default metric period is 5 because PFound, MAP, NDCG is/are not implemented for GPU\n",
      "Metric PFound is not implemented on GPU. Will use CPU for metric computation, this could significantly affect learning time\n",
      "Metric PFound is not implemented on GPU. Will use CPU for metric computation, this could significantly affect learning time\n",
      "Metric NDCG:top=5;type=Base is not implemented on GPU. Will use CPU for metric computation, this could significantly affect learning time\n",
      "Metric MAP:top=10 is not implemented on GPU. Will use CPU for metric computation, this could significantly affect learning time\n",
      "Metric NDCG:top=10;type=Base is not implemented on GPU. Will use CPU for metric computation, this could significantly affect learning time\n"
     ]
    },
    {
     "name": "stdout",
     "output_type": "stream",
     "text": [
      "bestTest = 0.6465067153\n",
      "bestIteration = 90\n",
      "Metric PFound is not calculated on train by default. To calculate this metric on train, add hints=skip_train~false to metric parameters.\n",
      "Metric PFound is not calculated on train by default. To calculate this metric on train, add hints=skip_train~false to metric parameters.\n",
      "0:\tloss: 0.6465067\tbest: 0.6465067 (0)\ttotal: 8.32s\tremaining: 4m 51s\n"
     ]
    },
    {
     "name": "stderr",
     "output_type": "stream",
     "text": [
      "Default metric period is 5 because PFound, MAP, NDCG is/are not implemented for GPU\n",
      "Metric PFound is not implemented on GPU. Will use CPU for metric computation, this could significantly affect learning time\n",
      "Metric PFound is not implemented on GPU. Will use CPU for metric computation, this could significantly affect learning time\n",
      "Metric NDCG:top=5;type=Base is not implemented on GPU. Will use CPU for metric computation, this could significantly affect learning time\n",
      "Metric MAP:top=10 is not implemented on GPU. Will use CPU for metric computation, this could significantly affect learning time\n",
      "Metric NDCG:top=10;type=Base is not implemented on GPU. Will use CPU for metric computation, this could significantly affect learning time\n"
     ]
    },
    {
     "name": "stdout",
     "output_type": "stream",
     "text": [
      "bestTest = 0.6777244828\n",
      "bestIteration = 295\n",
      "Metric PFound is not calculated on train by default. To calculate this metric on train, add hints=skip_train~false to metric parameters.\n",
      "Metric PFound is not calculated on train by default. To calculate this metric on train, add hints=skip_train~false to metric parameters.\n",
      "1:\tloss: 0.6777245\tbest: 0.6777245 (1)\ttotal: 16.1s\tremaining: 4m 33s\n"
     ]
    },
    {
     "name": "stderr",
     "output_type": "stream",
     "text": [
      "Default metric period is 5 because PFound, MAP, NDCG is/are not implemented for GPU\n",
      "Metric PFound is not implemented on GPU. Will use CPU for metric computation, this could significantly affect learning time\n",
      "Metric PFound is not implemented on GPU. Will use CPU for metric computation, this could significantly affect learning time\n",
      "Metric NDCG:top=5;type=Base is not implemented on GPU. Will use CPU for metric computation, this could significantly affect learning time\n",
      "Metric MAP:top=10 is not implemented on GPU. Will use CPU for metric computation, this could significantly affect learning time\n",
      "Metric NDCG:top=10;type=Base is not implemented on GPU. Will use CPU for metric computation, this could significantly affect learning time\n"
     ]
    },
    {
     "name": "stdout",
     "output_type": "stream",
     "text": [
      "bestTest = 0.6887946242\n",
      "bestIteration = 280\n",
      "Metric PFound is not calculated on train by default. To calculate this metric on train, add hints=skip_train~false to metric parameters.\n",
      "Metric PFound is not calculated on train by default. To calculate this metric on train, add hints=skip_train~false to metric parameters.\n",
      "2:\tloss: 0.6887946\tbest: 0.6887946 (2)\ttotal: 24.1s\tremaining: 4m 25s\n"
     ]
    },
    {
     "name": "stderr",
     "output_type": "stream",
     "text": [
      "Default metric period is 5 because PFound, MAP, NDCG is/are not implemented for GPU\n",
      "Metric PFound is not implemented on GPU. Will use CPU for metric computation, this could significantly affect learning time\n",
      "Metric PFound is not implemented on GPU. Will use CPU for metric computation, this could significantly affect learning time\n",
      "Metric NDCG:top=5;type=Base is not implemented on GPU. Will use CPU for metric computation, this could significantly affect learning time\n",
      "Metric MAP:top=10 is not implemented on GPU. Will use CPU for metric computation, this could significantly affect learning time\n",
      "Metric NDCG:top=10;type=Base is not implemented on GPU. Will use CPU for metric computation, this could significantly affect learning time\n"
     ]
    },
    {
     "name": "stdout",
     "output_type": "stream",
     "text": [
      "bestTest = 0.6349074886\n",
      "bestIteration = 295\n",
      "Metric PFound is not calculated on train by default. To calculate this metric on train, add hints=skip_train~false to metric parameters.\n",
      "Metric PFound is not calculated on train by default. To calculate this metric on train, add hints=skip_train~false to metric parameters.\n",
      "3:\tloss: 0.6349075\tbest: 0.6887946 (2)\ttotal: 32.2s\tremaining: 4m 17s\n"
     ]
    },
    {
     "name": "stderr",
     "output_type": "stream",
     "text": [
      "Default metric period is 5 because PFound, MAP, NDCG is/are not implemented for GPU\n",
      "Metric PFound is not implemented on GPU. Will use CPU for metric computation, this could significantly affect learning time\n",
      "Metric PFound is not implemented on GPU. Will use CPU for metric computation, this could significantly affect learning time\n",
      "Metric NDCG:top=5;type=Base is not implemented on GPU. Will use CPU for metric computation, this could significantly affect learning time\n",
      "Metric MAP:top=10 is not implemented on GPU. Will use CPU for metric computation, this could significantly affect learning time\n",
      "Metric NDCG:top=10;type=Base is not implemented on GPU. Will use CPU for metric computation, this could significantly affect learning time\n"
     ]
    },
    {
     "name": "stdout",
     "output_type": "stream",
     "text": [
      "bestTest = 0.6745720302\n",
      "bestIteration = 285\n",
      "Metric PFound is not calculated on train by default. To calculate this metric on train, add hints=skip_train~false to metric parameters.\n",
      "Metric PFound is not calculated on train by default. To calculate this metric on train, add hints=skip_train~false to metric parameters.\n",
      "4:\tloss: 0.6745720\tbest: 0.6887946 (2)\ttotal: 40s\tremaining: 4m 7s\n"
     ]
    },
    {
     "name": "stderr",
     "output_type": "stream",
     "text": [
      "Default metric period is 5 because PFound, MAP, NDCG is/are not implemented for GPU\n",
      "Metric PFound is not implemented on GPU. Will use CPU for metric computation, this could significantly affect learning time\n",
      "Metric PFound is not implemented on GPU. Will use CPU for metric computation, this could significantly affect learning time\n",
      "Metric NDCG:top=5;type=Base is not implemented on GPU. Will use CPU for metric computation, this could significantly affect learning time\n",
      "Metric MAP:top=10 is not implemented on GPU. Will use CPU for metric computation, this could significantly affect learning time\n",
      "Metric NDCG:top=10;type=Base is not implemented on GPU. Will use CPU for metric computation, this could significantly affect learning time\n"
     ]
    },
    {
     "name": "stdout",
     "output_type": "stream",
     "text": [
      "bestTest = 0.6896994976\n",
      "bestIteration = 215\n",
      "Metric PFound is not calculated on train by default. To calculate this metric on train, add hints=skip_train~false to metric parameters.\n",
      "Metric PFound is not calculated on train by default. To calculate this metric on train, add hints=skip_train~false to metric parameters.\n",
      "5:\tloss: 0.6896995\tbest: 0.6896995 (5)\ttotal: 48.3s\tremaining: 4m 1s\n"
     ]
    },
    {
     "name": "stderr",
     "output_type": "stream",
     "text": [
      "Default metric period is 5 because PFound, MAP, NDCG is/are not implemented for GPU\n",
      "Metric PFound is not implemented on GPU. Will use CPU for metric computation, this could significantly affect learning time\n",
      "Metric PFound is not implemented on GPU. Will use CPU for metric computation, this could significantly affect learning time\n",
      "Metric NDCG:top=5;type=Base is not implemented on GPU. Will use CPU for metric computation, this could significantly affect learning time\n",
      "Metric MAP:top=10 is not implemented on GPU. Will use CPU for metric computation, this could significantly affect learning time\n",
      "Metric NDCG:top=10;type=Base is not implemented on GPU. Will use CPU for metric computation, this could significantly affect learning time\n"
     ]
    },
    {
     "name": "stdout",
     "output_type": "stream",
     "text": [
      "bestTest = 0.6219820606\n",
      "bestIteration = 295\n",
      "Metric PFound is not calculated on train by default. To calculate this metric on train, add hints=skip_train~false to metric parameters.\n",
      "Metric PFound is not calculated on train by default. To calculate this metric on train, add hints=skip_train~false to metric parameters.\n",
      "6:\tloss: 0.6219821\tbest: 0.6896995 (5)\ttotal: 56.3s\tremaining: 3m 53s\n"
     ]
    },
    {
     "name": "stderr",
     "output_type": "stream",
     "text": [
      "Default metric period is 5 because PFound, MAP, NDCG is/are not implemented for GPU\n",
      "Metric PFound is not implemented on GPU. Will use CPU for metric computation, this could significantly affect learning time\n",
      "Metric PFound is not implemented on GPU. Will use CPU for metric computation, this could significantly affect learning time\n",
      "Metric NDCG:top=5;type=Base is not implemented on GPU. Will use CPU for metric computation, this could significantly affect learning time\n",
      "Metric MAP:top=10 is not implemented on GPU. Will use CPU for metric computation, this could significantly affect learning time\n",
      "Metric NDCG:top=10;type=Base is not implemented on GPU. Will use CPU for metric computation, this could significantly affect learning time\n"
     ]
    },
    {
     "name": "stdout",
     "output_type": "stream",
     "text": [
      "bestTest = 0.6697036023\n",
      "bestIteration = 299\n",
      "Metric PFound is not calculated on train by default. To calculate this metric on train, add hints=skip_train~false to metric parameters.\n",
      "Metric PFound is not calculated on train by default. To calculate this metric on train, add hints=skip_train~false to metric parameters.\n",
      "7:\tloss: 0.6697036\tbest: 0.6896995 (5)\ttotal: 1m 4s\tremaining: 3m 45s\n"
     ]
    },
    {
     "name": "stderr",
     "output_type": "stream",
     "text": [
      "Default metric period is 5 because PFound, MAP, NDCG is/are not implemented for GPU\n",
      "Metric PFound is not implemented on GPU. Will use CPU for metric computation, this could significantly affect learning time\n",
      "Metric PFound is not implemented on GPU. Will use CPU for metric computation, this could significantly affect learning time\n",
      "Metric NDCG:top=5;type=Base is not implemented on GPU. Will use CPU for metric computation, this could significantly affect learning time\n",
      "Metric MAP:top=10 is not implemented on GPU. Will use CPU for metric computation, this could significantly affect learning time\n",
      "Metric NDCG:top=10;type=Base is not implemented on GPU. Will use CPU for metric computation, this could significantly affect learning time\n"
     ]
    },
    {
     "name": "stdout",
     "output_type": "stream",
     "text": [
      "bestTest = 0.6926779313\n",
      "bestIteration = 299\n",
      "Metric PFound is not calculated on train by default. To calculate this metric on train, add hints=skip_train~false to metric parameters.\n",
      "Metric PFound is not calculated on train by default. To calculate this metric on train, add hints=skip_train~false to metric parameters.\n",
      "8:\tloss: 0.6926779\tbest: 0.6926779 (8)\ttotal: 1m 12s\tremaining: 3m 37s\n"
     ]
    },
    {
     "name": "stderr",
     "output_type": "stream",
     "text": [
      "Default metric period is 5 because PFound, MAP, NDCG is/are not implemented for GPU\n",
      "Metric PFound is not implemented on GPU. Will use CPU for metric computation, this could significantly affect learning time\n",
      "Metric PFound is not implemented on GPU. Will use CPU for metric computation, this could significantly affect learning time\n",
      "Metric NDCG:top=5;type=Base is not implemented on GPU. Will use CPU for metric computation, this could significantly affect learning time\n",
      "Metric MAP:top=10 is not implemented on GPU. Will use CPU for metric computation, this could significantly affect learning time\n",
      "Metric NDCG:top=10;type=Base is not implemented on GPU. Will use CPU for metric computation, this could significantly affect learning time\n"
     ]
    },
    {
     "name": "stdout",
     "output_type": "stream",
     "text": [
      "bestTest = 0.6040950335\n",
      "bestIteration = 275\n",
      "Metric PFound is not calculated on train by default. To calculate this metric on train, add hints=skip_train~false to metric parameters.\n",
      "Metric PFound is not calculated on train by default. To calculate this metric on train, add hints=skip_train~false to metric parameters.\n",
      "9:\tloss: 0.6040950\tbest: 0.6926779 (8)\ttotal: 1m 20s\tremaining: 3m 30s\n"
     ]
    },
    {
     "name": "stderr",
     "output_type": "stream",
     "text": [
      "Default metric period is 5 because PFound, MAP, NDCG is/are not implemented for GPU\n",
      "Metric PFound is not implemented on GPU. Will use CPU for metric computation, this could significantly affect learning time\n",
      "Metric PFound is not implemented on GPU. Will use CPU for metric computation, this could significantly affect learning time\n",
      "Metric NDCG:top=5;type=Base is not implemented on GPU. Will use CPU for metric computation, this could significantly affect learning time\n",
      "Metric MAP:top=10 is not implemented on GPU. Will use CPU for metric computation, this could significantly affect learning time\n",
      "Metric NDCG:top=10;type=Base is not implemented on GPU. Will use CPU for metric computation, this could significantly affect learning time\n"
     ]
    },
    {
     "name": "stdout",
     "output_type": "stream",
     "text": [
      "bestTest = 0.6636390463\n",
      "bestIteration = 299\n",
      "Metric PFound is not calculated on train by default. To calculate this metric on train, add hints=skip_train~false to metric parameters.\n",
      "Metric PFound is not calculated on train by default. To calculate this metric on train, add hints=skip_train~false to metric parameters.\n",
      "10:\tloss: 0.6636390\tbest: 0.6926779 (8)\ttotal: 1m 28s\tremaining: 3m 22s\n"
     ]
    },
    {
     "name": "stderr",
     "output_type": "stream",
     "text": [
      "Default metric period is 5 because PFound, MAP, NDCG is/are not implemented for GPU\n",
      "Metric PFound is not implemented on GPU. Will use CPU for metric computation, this could significantly affect learning time\n",
      "Metric PFound is not implemented on GPU. Will use CPU for metric computation, this could significantly affect learning time\n",
      "Metric NDCG:top=5;type=Base is not implemented on GPU. Will use CPU for metric computation, this could significantly affect learning time\n",
      "Metric MAP:top=10 is not implemented on GPU. Will use CPU for metric computation, this could significantly affect learning time\n",
      "Metric NDCG:top=10;type=Base is not implemented on GPU. Will use CPU for metric computation, this could significantly affect learning time\n"
     ]
    },
    {
     "name": "stdout",
     "output_type": "stream",
     "text": [
      "bestTest = 0.6870310363\n",
      "bestIteration = 299\n",
      "Metric PFound is not calculated on train by default. To calculate this metric on train, add hints=skip_train~false to metric parameters.\n",
      "Metric PFound is not calculated on train by default. To calculate this metric on train, add hints=skip_train~false to metric parameters.\n",
      "11:\tloss: 0.6870310\tbest: 0.6926779 (8)\ttotal: 1m 36s\tremaining: 3m 13s\n"
     ]
    },
    {
     "name": "stderr",
     "output_type": "stream",
     "text": [
      "Default metric period is 5 because PFound, MAP, NDCG is/are not implemented for GPU\n",
      "Metric PFound is not implemented on GPU. Will use CPU for metric computation, this could significantly affect learning time\n",
      "Metric PFound is not implemented on GPU. Will use CPU for metric computation, this could significantly affect learning time\n",
      "Metric NDCG:top=5;type=Base is not implemented on GPU. Will use CPU for metric computation, this could significantly affect learning time\n",
      "Metric MAP:top=10 is not implemented on GPU. Will use CPU for metric computation, this could significantly affect learning time\n",
      "Metric NDCG:top=10;type=Base is not implemented on GPU. Will use CPU for metric computation, this could significantly affect learning time\n"
     ]
    },
    {
     "name": "stdout",
     "output_type": "stream",
     "text": [
      "bestTest = 0.6527294369\n",
      "bestIteration = 299\n",
      "Metric PFound is not calculated on train by default. To calculate this metric on train, add hints=skip_train~false to metric parameters.\n",
      "Metric PFound is not calculated on train by default. To calculate this metric on train, add hints=skip_train~false to metric parameters.\n",
      "12:\tloss: 0.6527294\tbest: 0.6926779 (8)\ttotal: 1m 47s\tremaining: 3m 10s\n"
     ]
    },
    {
     "name": "stderr",
     "output_type": "stream",
     "text": [
      "Default metric period is 5 because PFound, MAP, NDCG is/are not implemented for GPU\n",
      "Metric PFound is not implemented on GPU. Will use CPU for metric computation, this could significantly affect learning time\n",
      "Metric PFound is not implemented on GPU. Will use CPU for metric computation, this could significantly affect learning time\n",
      "Metric NDCG:top=5;type=Base is not implemented on GPU. Will use CPU for metric computation, this could significantly affect learning time\n",
      "Metric MAP:top=10 is not implemented on GPU. Will use CPU for metric computation, this could significantly affect learning time\n",
      "Metric NDCG:top=10;type=Base is not implemented on GPU. Will use CPU for metric computation, this could significantly affect learning time\n"
     ]
    },
    {
     "name": "stdout",
     "output_type": "stream",
     "text": [
      "bestTest = 0.6808105434\n",
      "bestIteration = 285\n",
      "Metric PFound is not calculated on train by default. To calculate this metric on train, add hints=skip_train~false to metric parameters.\n",
      "Metric PFound is not calculated on train by default. To calculate this metric on train, add hints=skip_train~false to metric parameters.\n",
      "13:\tloss: 0.6808105\tbest: 0.6926779 (8)\ttotal: 1m 58s\tremaining: 3m 5s\n"
     ]
    },
    {
     "name": "stderr",
     "output_type": "stream",
     "text": [
      "Default metric period is 5 because PFound, MAP, NDCG is/are not implemented for GPU\n",
      "Metric PFound is not implemented on GPU. Will use CPU for metric computation, this could significantly affect learning time\n",
      "Metric PFound is not implemented on GPU. Will use CPU for metric computation, this could significantly affect learning time\n",
      "Metric NDCG:top=5;type=Base is not implemented on GPU. Will use CPU for metric computation, this could significantly affect learning time\n",
      "Metric MAP:top=10 is not implemented on GPU. Will use CPU for metric computation, this could significantly affect learning time\n",
      "Metric NDCG:top=10;type=Base is not implemented on GPU. Will use CPU for metric computation, this could significantly affect learning time\n"
     ]
    },
    {
     "name": "stdout",
     "output_type": "stream",
     "text": [
      "bestTest = 0.6907601721\n",
      "bestIteration = 145\n",
      "Metric PFound is not calculated on train by default. To calculate this metric on train, add hints=skip_train~false to metric parameters.\n",
      "Metric PFound is not calculated on train by default. To calculate this metric on train, add hints=skip_train~false to metric parameters.\n",
      "14:\tloss: 0.6907602\tbest: 0.6926779 (8)\ttotal: 2m 8s\tremaining: 2m 59s\n"
     ]
    },
    {
     "name": "stderr",
     "output_type": "stream",
     "text": [
      "Default metric period is 5 because PFound, MAP, NDCG is/are not implemented for GPU\n",
      "Metric PFound is not implemented on GPU. Will use CPU for metric computation, this could significantly affect learning time\n",
      "Metric PFound is not implemented on GPU. Will use CPU for metric computation, this could significantly affect learning time\n",
      "Metric NDCG:top=5;type=Base is not implemented on GPU. Will use CPU for metric computation, this could significantly affect learning time\n",
      "Metric MAP:top=10 is not implemented on GPU. Will use CPU for metric computation, this could significantly affect learning time\n",
      "Metric NDCG:top=10;type=Base is not implemented on GPU. Will use CPU for metric computation, this could significantly affect learning time\n"
     ]
    },
    {
     "name": "stdout",
     "output_type": "stream",
     "text": [
      "bestTest = 0.641340489\n",
      "bestIteration = 299\n",
      "Metric PFound is not calculated on train by default. To calculate this metric on train, add hints=skip_train~false to metric parameters.\n",
      "Metric PFound is not calculated on train by default. To calculate this metric on train, add hints=skip_train~false to metric parameters.\n",
      "15:\tloss: 0.6413405\tbest: 0.6926779 (8)\ttotal: 2m 18s\tremaining: 2m 53s\n"
     ]
    },
    {
     "name": "stderr",
     "output_type": "stream",
     "text": [
      "Default metric period is 5 because PFound, MAP, NDCG is/are not implemented for GPU\n",
      "Metric PFound is not implemented on GPU. Will use CPU for metric computation, this could significantly affect learning time\n",
      "Metric PFound is not implemented on GPU. Will use CPU for metric computation, this could significantly affect learning time\n",
      "Metric NDCG:top=5;type=Base is not implemented on GPU. Will use CPU for metric computation, this could significantly affect learning time\n",
      "Metric MAP:top=10 is not implemented on GPU. Will use CPU for metric computation, this could significantly affect learning time\n",
      "Metric NDCG:top=10;type=Base is not implemented on GPU. Will use CPU for metric computation, this could significantly affect learning time\n"
     ]
    },
    {
     "name": "stdout",
     "output_type": "stream",
     "text": [
      "bestTest = 0.6769365193\n",
      "bestIteration = 299\n",
      "Metric PFound is not calculated on train by default. To calculate this metric on train, add hints=skip_train~false to metric parameters.\n",
      "Metric PFound is not calculated on train by default. To calculate this metric on train, add hints=skip_train~false to metric parameters.\n",
      "16:\tloss: 0.6769365\tbest: 0.6926779 (8)\ttotal: 2m 29s\tremaining: 2m 46s\n"
     ]
    },
    {
     "name": "stderr",
     "output_type": "stream",
     "text": [
      "Default metric period is 5 because PFound, MAP, NDCG is/are not implemented for GPU\n",
      "Metric PFound is not implemented on GPU. Will use CPU for metric computation, this could significantly affect learning time\n",
      "Metric PFound is not implemented on GPU. Will use CPU for metric computation, this could significantly affect learning time\n",
      "Metric NDCG:top=5;type=Base is not implemented on GPU. Will use CPU for metric computation, this could significantly affect learning time\n",
      "Metric MAP:top=10 is not implemented on GPU. Will use CPU for metric computation, this could significantly affect learning time\n",
      "Metric NDCG:top=10;type=Base is not implemented on GPU. Will use CPU for metric computation, this could significantly affect learning time\n"
     ]
    },
    {
     "name": "stdout",
     "output_type": "stream",
     "text": [
      "bestTest = 0.6943350298\n",
      "bestIteration = 285\n",
      "Metric PFound is not calculated on train by default. To calculate this metric on train, add hints=skip_train~false to metric parameters.\n",
      "Metric PFound is not calculated on train by default. To calculate this metric on train, add hints=skip_train~false to metric parameters.\n",
      "17:\tloss: 0.6943350\tbest: 0.6943350 (17)\ttotal: 2m 39s\tremaining: 2m 39s\n"
     ]
    },
    {
     "name": "stderr",
     "output_type": "stream",
     "text": [
      "Default metric period is 5 because PFound, MAP, NDCG is/are not implemented for GPU\n",
      "Metric PFound is not implemented on GPU. Will use CPU for metric computation, this could significantly affect learning time\n",
      "Metric PFound is not implemented on GPU. Will use CPU for metric computation, this could significantly affect learning time\n",
      "Metric NDCG:top=5;type=Base is not implemented on GPU. Will use CPU for metric computation, this could significantly affect learning time\n",
      "Metric MAP:top=10 is not implemented on GPU. Will use CPU for metric computation, this could significantly affect learning time\n",
      "Metric NDCG:top=10;type=Base is not implemented on GPU. Will use CPU for metric computation, this could significantly affect learning time\n"
     ]
    },
    {
     "name": "stdout",
     "output_type": "stream",
     "text": [
      "bestTest = 0.63752869\n",
      "bestIteration = 265\n",
      "Metric PFound is not calculated on train by default. To calculate this metric on train, add hints=skip_train~false to metric parameters.\n",
      "Metric PFound is not calculated on train by default. To calculate this metric on train, add hints=skip_train~false to metric parameters.\n",
      "18:\tloss: 0.6375287\tbest: 0.6943350 (17)\ttotal: 2m 49s\tremaining: 2m 31s\n"
     ]
    },
    {
     "name": "stderr",
     "output_type": "stream",
     "text": [
      "Default metric period is 5 because PFound, MAP, NDCG is/are not implemented for GPU\n",
      "Metric PFound is not implemented on GPU. Will use CPU for metric computation, this could significantly affect learning time\n",
      "Metric PFound is not implemented on GPU. Will use CPU for metric computation, this could significantly affect learning time\n",
      "Metric NDCG:top=5;type=Base is not implemented on GPU. Will use CPU for metric computation, this could significantly affect learning time\n",
      "Metric MAP:top=10 is not implemented on GPU. Will use CPU for metric computation, this could significantly affect learning time\n",
      "Metric NDCG:top=10;type=Base is not implemented on GPU. Will use CPU for metric computation, this could significantly affect learning time\n"
     ]
    },
    {
     "name": "stdout",
     "output_type": "stream",
     "text": [
      "bestTest = 0.6687603594\n",
      "bestIteration = 299\n",
      "Metric PFound is not calculated on train by default. To calculate this metric on train, add hints=skip_train~false to metric parameters.\n",
      "Metric PFound is not calculated on train by default. To calculate this metric on train, add hints=skip_train~false to metric parameters.\n",
      "19:\tloss: 0.6687604\tbest: 0.6943350 (17)\ttotal: 3m\tremaining: 2m 24s\n"
     ]
    },
    {
     "name": "stderr",
     "output_type": "stream",
     "text": [
      "Default metric period is 5 because PFound, MAP, NDCG is/are not implemented for GPU\n",
      "Metric PFound is not implemented on GPU. Will use CPU for metric computation, this could significantly affect learning time\n",
      "Metric PFound is not implemented on GPU. Will use CPU for metric computation, this could significantly affect learning time\n",
      "Metric NDCG:top=5;type=Base is not implemented on GPU. Will use CPU for metric computation, this could significantly affect learning time\n",
      "Metric MAP:top=10 is not implemented on GPU. Will use CPU for metric computation, this could significantly affect learning time\n",
      "Metric NDCG:top=10;type=Base is not implemented on GPU. Will use CPU for metric computation, this could significantly affect learning time\n"
     ]
    },
    {
     "name": "stdout",
     "output_type": "stream",
     "text": [
      "bestTest = 0.6922584405\n",
      "bestIteration = 299\n",
      "Metric PFound is not calculated on train by default. To calculate this metric on train, add hints=skip_train~false to metric parameters.\n",
      "Metric PFound is not calculated on train by default. To calculate this metric on train, add hints=skip_train~false to metric parameters.\n",
      "20:\tloss: 0.6922584\tbest: 0.6943350 (17)\ttotal: 3m 10s\tremaining: 2m 16s\n"
     ]
    },
    {
     "name": "stderr",
     "output_type": "stream",
     "text": [
      "Default metric period is 5 because PFound, MAP, NDCG is/are not implemented for GPU\n",
      "Metric PFound is not implemented on GPU. Will use CPU for metric computation, this could significantly affect learning time\n",
      "Metric PFound is not implemented on GPU. Will use CPU for metric computation, this could significantly affect learning time\n",
      "Metric NDCG:top=5;type=Base is not implemented on GPU. Will use CPU for metric computation, this could significantly affect learning time\n",
      "Metric MAP:top=10 is not implemented on GPU. Will use CPU for metric computation, this could significantly affect learning time\n",
      "Metric NDCG:top=10;type=Base is not implemented on GPU. Will use CPU for metric computation, this could significantly affect learning time\n"
     ]
    },
    {
     "name": "stdout",
     "output_type": "stream",
     "text": [
      "bestTest = 0.6383471746\n",
      "bestIteration = 299\n",
      "Metric PFound is not calculated on train by default. To calculate this metric on train, add hints=skip_train~false to metric parameters.\n",
      "Metric PFound is not calculated on train by default. To calculate this metric on train, add hints=skip_train~false to metric parameters.\n",
      "21:\tloss: 0.6383472\tbest: 0.6943350 (17)\ttotal: 3m 21s\tremaining: 2m 7s\n"
     ]
    },
    {
     "name": "stderr",
     "output_type": "stream",
     "text": [
      "Default metric period is 5 because PFound, MAP, NDCG is/are not implemented for GPU\n",
      "Metric PFound is not implemented on GPU. Will use CPU for metric computation, this could significantly affect learning time\n",
      "Metric PFound is not implemented on GPU. Will use CPU for metric computation, this could significantly affect learning time\n",
      "Metric NDCG:top=5;type=Base is not implemented on GPU. Will use CPU for metric computation, this could significantly affect learning time\n",
      "Metric MAP:top=10 is not implemented on GPU. Will use CPU for metric computation, this could significantly affect learning time\n",
      "Metric NDCG:top=10;type=Base is not implemented on GPU. Will use CPU for metric computation, this could significantly affect learning time\n"
     ]
    },
    {
     "name": "stdout",
     "output_type": "stream",
     "text": [
      "bestTest = 0.6626499744\n",
      "bestIteration = 299\n",
      "Metric PFound is not calculated on train by default. To calculate this metric on train, add hints=skip_train~false to metric parameters.\n",
      "Metric PFound is not calculated on train by default. To calculate this metric on train, add hints=skip_train~false to metric parameters.\n",
      "22:\tloss: 0.6626500\tbest: 0.6943350 (17)\ttotal: 3m 31s\tremaining: 1m 59s\n"
     ]
    },
    {
     "name": "stderr",
     "output_type": "stream",
     "text": [
      "Default metric period is 5 because PFound, MAP, NDCG is/are not implemented for GPU\n",
      "Metric PFound is not implemented on GPU. Will use CPU for metric computation, this could significantly affect learning time\n",
      "Metric PFound is not implemented on GPU. Will use CPU for metric computation, this could significantly affect learning time\n",
      "Metric NDCG:top=5;type=Base is not implemented on GPU. Will use CPU for metric computation, this could significantly affect learning time\n",
      "Metric MAP:top=10 is not implemented on GPU. Will use CPU for metric computation, this could significantly affect learning time\n",
      "Metric NDCG:top=10;type=Base is not implemented on GPU. Will use CPU for metric computation, this could significantly affect learning time\n"
     ]
    },
    {
     "name": "stdout",
     "output_type": "stream",
     "text": [
      "bestTest = 0.6902822898\n",
      "bestIteration = 270\n",
      "Metric PFound is not calculated on train by default. To calculate this metric on train, add hints=skip_train~false to metric parameters.\n",
      "Metric PFound is not calculated on train by default. To calculate this metric on train, add hints=skip_train~false to metric parameters.\n",
      "23:\tloss: 0.6902823\tbest: 0.6943350 (17)\ttotal: 3m 41s\tremaining: 1m 50s\n"
     ]
    },
    {
     "name": "stderr",
     "output_type": "stream",
     "text": [
      "Default metric period is 5 because PFound, MAP, NDCG is/are not implemented for GPU\n",
      "Metric PFound is not implemented on GPU. Will use CPU for metric computation, this could significantly affect learning time\n",
      "Metric PFound is not implemented on GPU. Will use CPU for metric computation, this could significantly affect learning time\n",
      "Metric NDCG:top=5;type=Base is not implemented on GPU. Will use CPU for metric computation, this could significantly affect learning time\n",
      "Metric MAP:top=10 is not implemented on GPU. Will use CPU for metric computation, this could significantly affect learning time\n",
      "Metric NDCG:top=10;type=Base is not implemented on GPU. Will use CPU for metric computation, this could significantly affect learning time\n"
     ]
    },
    {
     "name": "stdout",
     "output_type": "stream",
     "text": [
      "bestTest = 0.6603436396\n",
      "bestIteration = 195\n",
      "Metric PFound is not calculated on train by default. To calculate this metric on train, add hints=skip_train~false to metric parameters.\n",
      "Metric PFound is not calculated on train by default. To calculate this metric on train, add hints=skip_train~false to metric parameters.\n",
      "24:\tloss: 0.6603436\tbest: 0.6943350 (17)\ttotal: 4m 25s\tremaining: 1m 56s\n"
     ]
    },
    {
     "name": "stderr",
     "output_type": "stream",
     "text": [
      "Default metric period is 5 because PFound, MAP, NDCG is/are not implemented for GPU\n",
      "Metric PFound is not implemented on GPU. Will use CPU for metric computation, this could significantly affect learning time\n",
      "Metric PFound is not implemented on GPU. Will use CPU for metric computation, this could significantly affect learning time\n",
      "Metric NDCG:top=5;type=Base is not implemented on GPU. Will use CPU for metric computation, this could significantly affect learning time\n",
      "Metric MAP:top=10 is not implemented on GPU. Will use CPU for metric computation, this could significantly affect learning time\n",
      "Metric NDCG:top=10;type=Base is not implemented on GPU. Will use CPU for metric computation, this could significantly affect learning time\n"
     ]
    },
    {
     "name": "stdout",
     "output_type": "stream",
     "text": [
      "bestTest = 0.6866091373\n",
      "bestIteration = 255\n",
      "Metric PFound is not calculated on train by default. To calculate this metric on train, add hints=skip_train~false to metric parameters.\n",
      "Metric PFound is not calculated on train by default. To calculate this metric on train, add hints=skip_train~false to metric parameters.\n",
      "25:\tloss: 0.6866091\tbest: 0.6943350 (17)\ttotal: 5m 10s\tremaining: 1m 59s\n"
     ]
    },
    {
     "name": "stderr",
     "output_type": "stream",
     "text": [
      "Default metric period is 5 because PFound, MAP, NDCG is/are not implemented for GPU\n",
      "Metric PFound is not implemented on GPU. Will use CPU for metric computation, this could significantly affect learning time\n",
      "Metric PFound is not implemented on GPU. Will use CPU for metric computation, this could significantly affect learning time\n",
      "Metric NDCG:top=5;type=Base is not implemented on GPU. Will use CPU for metric computation, this could significantly affect learning time\n",
      "Metric MAP:top=10 is not implemented on GPU. Will use CPU for metric computation, this could significantly affect learning time\n",
      "Metric NDCG:top=10;type=Base is not implemented on GPU. Will use CPU for metric computation, this could significantly affect learning time\n"
     ]
    },
    {
     "name": "stdout",
     "output_type": "stream",
     "text": [
      "bestTest = 0.6920650262\n",
      "bestIteration = 299\n",
      "Metric PFound is not calculated on train by default. To calculate this metric on train, add hints=skip_train~false to metric parameters.\n",
      "Metric PFound is not calculated on train by default. To calculate this metric on train, add hints=skip_train~false to metric parameters.\n",
      "26:\tloss: 0.6920650\tbest: 0.6943350 (17)\ttotal: 5m 54s\tremaining: 1m 58s\n"
     ]
    },
    {
     "name": "stderr",
     "output_type": "stream",
     "text": [
      "Default metric period is 5 because PFound, MAP, NDCG is/are not implemented for GPU\n",
      "Metric PFound is not implemented on GPU. Will use CPU for metric computation, this could significantly affect learning time\n",
      "Metric PFound is not implemented on GPU. Will use CPU for metric computation, this could significantly affect learning time\n",
      "Metric NDCG:top=5;type=Base is not implemented on GPU. Will use CPU for metric computation, this could significantly affect learning time\n",
      "Metric MAP:top=10 is not implemented on GPU. Will use CPU for metric computation, this could significantly affect learning time\n",
      "Metric NDCG:top=10;type=Base is not implemented on GPU. Will use CPU for metric computation, this could significantly affect learning time\n"
     ]
    },
    {
     "name": "stdout",
     "output_type": "stream",
     "text": [
      "bestTest = 0.6435370656\n",
      "bestIteration = 55\n",
      "Metric PFound is not calculated on train by default. To calculate this metric on train, add hints=skip_train~false to metric parameters.\n",
      "Metric PFound is not calculated on train by default. To calculate this metric on train, add hints=skip_train~false to metric parameters.\n",
      "27:\tloss: 0.6435371\tbest: 0.6943350 (17)\ttotal: 6m 41s\tremaining: 1m 54s\n"
     ]
    },
    {
     "name": "stderr",
     "output_type": "stream",
     "text": [
      "Default metric period is 5 because PFound, MAP, NDCG is/are not implemented for GPU\n",
      "Metric PFound is not implemented on GPU. Will use CPU for metric computation, this could significantly affect learning time\n",
      "Metric PFound is not implemented on GPU. Will use CPU for metric computation, this could significantly affect learning time\n",
      "Metric NDCG:top=5;type=Base is not implemented on GPU. Will use CPU for metric computation, this could significantly affect learning time\n",
      "Metric MAP:top=10 is not implemented on GPU. Will use CPU for metric computation, this could significantly affect learning time\n",
      "Metric NDCG:top=10;type=Base is not implemented on GPU. Will use CPU for metric computation, this could significantly affect learning time\n"
     ]
    },
    {
     "name": "stdout",
     "output_type": "stream",
     "text": [
      "bestTest = 0.676612518\n",
      "bestIteration = 299\n",
      "Metric PFound is not calculated on train by default. To calculate this metric on train, add hints=skip_train~false to metric parameters.\n",
      "Metric PFound is not calculated on train by default. To calculate this metric on train, add hints=skip_train~false to metric parameters.\n",
      "28:\tloss: 0.6766125\tbest: 0.6943350 (17)\ttotal: 7m 28s\tremaining: 1m 48s\n"
     ]
    },
    {
     "name": "stderr",
     "output_type": "stream",
     "text": [
      "Default metric period is 5 because PFound, MAP, NDCG is/are not implemented for GPU\n",
      "Metric PFound is not implemented on GPU. Will use CPU for metric computation, this could significantly affect learning time\n",
      "Metric PFound is not implemented on GPU. Will use CPU for metric computation, this could significantly affect learning time\n",
      "Metric NDCG:top=5;type=Base is not implemented on GPU. Will use CPU for metric computation, this could significantly affect learning time\n",
      "Metric MAP:top=10 is not implemented on GPU. Will use CPU for metric computation, this could significantly affect learning time\n",
      "Metric NDCG:top=10;type=Base is not implemented on GPU. Will use CPU for metric computation, this could significantly affect learning time\n"
     ]
    },
    {
     "name": "stdout",
     "output_type": "stream",
     "text": [
      "bestTest = 0.6930100082\n",
      "bestIteration = 290\n",
      "Metric PFound is not calculated on train by default. To calculate this metric on train, add hints=skip_train~false to metric parameters.\n",
      "Metric PFound is not calculated on train by default. To calculate this metric on train, add hints=skip_train~false to metric parameters.\n",
      "29:\tloss: 0.6930100\tbest: 0.6943350 (17)\ttotal: 8m 15s\tremaining: 1m 39s\n"
     ]
    },
    {
     "name": "stderr",
     "output_type": "stream",
     "text": [
      "Default metric period is 5 because PFound, MAP, NDCG is/are not implemented for GPU\n",
      "Metric PFound is not implemented on GPU. Will use CPU for metric computation, this could significantly affect learning time\n",
      "Metric PFound is not implemented on GPU. Will use CPU for metric computation, this could significantly affect learning time\n",
      "Metric NDCG:top=5;type=Base is not implemented on GPU. Will use CPU for metric computation, this could significantly affect learning time\n",
      "Metric MAP:top=10 is not implemented on GPU. Will use CPU for metric computation, this could significantly affect learning time\n",
      "Metric NDCG:top=10;type=Base is not implemented on GPU. Will use CPU for metric computation, this could significantly affect learning time\n"
     ]
    },
    {
     "name": "stdout",
     "output_type": "stream",
     "text": [
      "bestTest = 0.6374290709\n",
      "bestIteration = 299\n",
      "Metric PFound is not calculated on train by default. To calculate this metric on train, add hints=skip_train~false to metric parameters.\n",
      "Metric PFound is not calculated on train by default. To calculate this metric on train, add hints=skip_train~false to metric parameters.\n",
      "30:\tloss: 0.6374291\tbest: 0.6943350 (17)\ttotal: 9m 1s\tremaining: 1m 27s\n"
     ]
    },
    {
     "name": "stderr",
     "output_type": "stream",
     "text": [
      "Default metric period is 5 because PFound, MAP, NDCG is/are not implemented for GPU\n",
      "Metric PFound is not implemented on GPU. Will use CPU for metric computation, this could significantly affect learning time\n",
      "Metric PFound is not implemented on GPU. Will use CPU for metric computation, this could significantly affect learning time\n",
      "Metric NDCG:top=5;type=Base is not implemented on GPU. Will use CPU for metric computation, this could significantly affect learning time\n",
      "Metric MAP:top=10 is not implemented on GPU. Will use CPU for metric computation, this could significantly affect learning time\n",
      "Metric NDCG:top=10;type=Base is not implemented on GPU. Will use CPU for metric computation, this could significantly affect learning time\n"
     ]
    },
    {
     "name": "stdout",
     "output_type": "stream",
     "text": [
      "bestTest = 0.671599574\n",
      "bestIteration = 295\n",
      "Metric PFound is not calculated on train by default. To calculate this metric on train, add hints=skip_train~false to metric parameters.\n",
      "Metric PFound is not calculated on train by default. To calculate this metric on train, add hints=skip_train~false to metric parameters.\n",
      "31:\tloss: 0.6715996\tbest: 0.6943350 (17)\ttotal: 9m 48s\tremaining: 1m 13s\n"
     ]
    },
    {
     "name": "stderr",
     "output_type": "stream",
     "text": [
      "Default metric period is 5 because PFound, MAP, NDCG is/are not implemented for GPU\n",
      "Metric PFound is not implemented on GPU. Will use CPU for metric computation, this could significantly affect learning time\n",
      "Metric PFound is not implemented on GPU. Will use CPU for metric computation, this could significantly affect learning time\n",
      "Metric NDCG:top=5;type=Base is not implemented on GPU. Will use CPU for metric computation, this could significantly affect learning time\n",
      "Metric MAP:top=10 is not implemented on GPU. Will use CPU for metric computation, this could significantly affect learning time\n",
      "Metric NDCG:top=10;type=Base is not implemented on GPU. Will use CPU for metric computation, this could significantly affect learning time\n"
     ]
    },
    {
     "name": "stdout",
     "output_type": "stream",
     "text": [
      "bestTest = 0.6895606858\n",
      "bestIteration = 299\n",
      "Metric PFound is not calculated on train by default. To calculate this metric on train, add hints=skip_train~false to metric parameters.\n",
      "Metric PFound is not calculated on train by default. To calculate this metric on train, add hints=skip_train~false to metric parameters.\n",
      "32:\tloss: 0.6895607\tbest: 0.6943350 (17)\ttotal: 10m 34s\tremaining: 57.7s\n"
     ]
    },
    {
     "name": "stderr",
     "output_type": "stream",
     "text": [
      "Default metric period is 5 because PFound, MAP, NDCG is/are not implemented for GPU\n",
      "Metric PFound is not implemented on GPU. Will use CPU for metric computation, this could significantly affect learning time\n",
      "Metric PFound is not implemented on GPU. Will use CPU for metric computation, this could significantly affect learning time\n",
      "Metric NDCG:top=5;type=Base is not implemented on GPU. Will use CPU for metric computation, this could significantly affect learning time\n",
      "Metric MAP:top=10 is not implemented on GPU. Will use CPU for metric computation, this could significantly affect learning time\n",
      "Metric NDCG:top=10;type=Base is not implemented on GPU. Will use CPU for metric computation, this could significantly affect learning time\n"
     ]
    },
    {
     "name": "stdout",
     "output_type": "stream",
     "text": [
      "bestTest = 0.6345578468\n",
      "bestIteration = 299\n",
      "Metric PFound is not calculated on train by default. To calculate this metric on train, add hints=skip_train~false to metric parameters.\n",
      "Metric PFound is not calculated on train by default. To calculate this metric on train, add hints=skip_train~false to metric parameters.\n",
      "33:\tloss: 0.6345578\tbest: 0.6943350 (17)\ttotal: 11m 20s\tremaining: 40s\n"
     ]
    },
    {
     "name": "stderr",
     "output_type": "stream",
     "text": [
      "Default metric period is 5 because PFound, MAP, NDCG is/are not implemented for GPU\n",
      "Metric PFound is not implemented on GPU. Will use CPU for metric computation, this could significantly affect learning time\n",
      "Metric PFound is not implemented on GPU. Will use CPU for metric computation, this could significantly affect learning time\n",
      "Metric NDCG:top=5;type=Base is not implemented on GPU. Will use CPU for metric computation, this could significantly affect learning time\n",
      "Metric MAP:top=10 is not implemented on GPU. Will use CPU for metric computation, this could significantly affect learning time\n",
      "Metric NDCG:top=10;type=Base is not implemented on GPU. Will use CPU for metric computation, this could significantly affect learning time\n"
     ]
    },
    {
     "name": "stdout",
     "output_type": "stream",
     "text": [
      "bestTest = 0.6649104504\n",
      "bestIteration = 299\n",
      "Metric PFound is not calculated on train by default. To calculate this metric on train, add hints=skip_train~false to metric parameters.\n",
      "Metric PFound is not calculated on train by default. To calculate this metric on train, add hints=skip_train~false to metric parameters.\n",
      "34:\tloss: 0.6649105\tbest: 0.6943350 (17)\ttotal: 12m 6s\tremaining: 20.8s\n"
     ]
    },
    {
     "name": "stderr",
     "output_type": "stream",
     "text": [
      "Default metric period is 5 because PFound, MAP, NDCG is/are not implemented for GPU\n",
      "Metric PFound is not implemented on GPU. Will use CPU for metric computation, this could significantly affect learning time\n",
      "Metric PFound is not implemented on GPU. Will use CPU for metric computation, this could significantly affect learning time\n",
      "Metric NDCG:top=5;type=Base is not implemented on GPU. Will use CPU for metric computation, this could significantly affect learning time\n",
      "Metric MAP:top=10 is not implemented on GPU. Will use CPU for metric computation, this could significantly affect learning time\n",
      "Metric NDCG:top=10;type=Base is not implemented on GPU. Will use CPU for metric computation, this could significantly affect learning time\n"
     ]
    },
    {
     "name": "stdout",
     "output_type": "stream",
     "text": [
      "bestTest = 0.6889948073\n",
      "bestIteration = 295\n",
      "Metric PFound is not calculated on train by default. To calculate this metric on train, add hints=skip_train~false to metric parameters.\n",
      "Metric PFound is not calculated on train by default. To calculate this metric on train, add hints=skip_train~false to metric parameters.\n",
      "35:\tloss: 0.6889948\tbest: 0.6943350 (17)\ttotal: 12m 53s\tremaining: 0us\n",
      "Estimating final quality...\n"
     ]
    },
    {
     "name": "stderr",
     "output_type": "stream",
     "text": [
      "Default metric period is 5 because PFound, MAP, NDCG is/are not implemented for GPU\n",
      "Metric PFound is not implemented on GPU. Will use CPU for metric computation, this could significantly affect learning time\n",
      "Metric PFound is not implemented on GPU. Will use CPU for metric computation, this could significantly affect learning time\n",
      "Metric NDCG:top=5;type=Base is not implemented on GPU. Will use CPU for metric computation, this could significantly affect learning time\n",
      "Metric MAP:top=10 is not implemented on GPU. Will use CPU for metric computation, this could significantly affect learning time\n",
      "Metric NDCG:top=10;type=Base is not implemented on GPU. Will use CPU for metric computation, this could significantly affect learning time\n"
     ]
    },
    {
     "name": "stdout",
     "output_type": "stream",
     "text": [
      "Training on fold [0/3]\n",
      "bestTest = 0.7167206569\n",
      "bestIteration = 250\n",
      "Training on fold [1/3]\n"
     ]
    },
    {
     "name": "stderr",
     "output_type": "stream",
     "text": [
      "Metric PFound is not implemented on GPU. Will use CPU for metric computation, this could significantly affect learning time\n",
      "Metric PFound is not implemented on GPU. Will use CPU for metric computation, this could significantly affect learning time\n",
      "Metric NDCG:top=5;type=Base is not implemented on GPU. Will use CPU for metric computation, this could significantly affect learning time\n",
      "Metric MAP:top=10 is not implemented on GPU. Will use CPU for metric computation, this could significantly affect learning time\n",
      "Metric NDCG:top=10;type=Base is not implemented on GPU. Will use CPU for metric computation, this could significantly affect learning time\n"
     ]
    },
    {
     "name": "stdout",
     "output_type": "stream",
     "text": [
      "bestTest = 0.7027187169\n",
      "bestIteration = 250\n",
      "Training on fold [2/3]\n"
     ]
    },
    {
     "name": "stderr",
     "output_type": "stream",
     "text": [
      "Metric PFound is not implemented on GPU. Will use CPU for metric computation, this could significantly affect learning time\n",
      "Metric PFound is not implemented on GPU. Will use CPU for metric computation, this could significantly affect learning time\n",
      "Metric NDCG:top=5;type=Base is not implemented on GPU. Will use CPU for metric computation, this could significantly affect learning time\n",
      "Metric MAP:top=10 is not implemented on GPU. Will use CPU for metric computation, this could significantly affect learning time\n",
      "Metric NDCG:top=10;type=Base is not implemented on GPU. Will use CPU for metric computation, this could significantly affect learning time\n"
     ]
    },
    {
     "name": "stdout",
     "output_type": "stream",
     "text": [
      "bestTest = 0.6955538672\n",
      "bestIteration = 290\n"
     ]
    },
    {
     "name": "stderr",
     "output_type": "stream",
     "text": [
      "Default metric period is 5 because PFound, MAP, NDCG is/are not implemented for GPU\n",
      "Metric PFound is not implemented on GPU. Will use CPU for metric computation, this could significantly affect learning time\n",
      "Metric PFound is not implemented on GPU. Will use CPU for metric computation, this could significantly affect learning time\n",
      "Metric NDCG:top=5;type=Base is not implemented on GPU. Will use CPU for metric computation, this could significantly affect learning time\n",
      "Metric MAP:top=10 is not implemented on GPU. Will use CPU for metric computation, this could significantly affect learning time\n",
      "Metric NDCG:top=10;type=Base is not implemented on GPU. Will use CPU for metric computation, this could significantly affect learning time\n"
     ]
    }
   ],
   "source": [
    "train_pool_gs = Pool(train_scaled, label=train['rank']/4, group_id=train_scaled['query_id'])\n",
    "ranker_gs = CatBoostRanker(iterations=300, task_type='GPU', custom_metric=['NDCG:top=5;hints=skip_train~false', 'MAP:top=10', 'NDCG:top=10;hints=skip_train~false'], devices='0', loss_function='YetiRank', silent=True)\n",
    "grid_params = {\n",
    "    #'loss_function' : ['YetiRank', 'LambdaMart:metric=NDCG', 'StochasticRank', 'QueryCrossEntropy'],\n",
    "    'depth': [4, 6, 10],\n",
    "    'l2_leaf_reg': [0, 1, 3, 5],\n",
    "    'learning_rate': [0.0001, 0.06, 0.6]\n",
    "}\n",
    "\n",
    "result = ranker_gs.grid_search(param_grid=grid_params, X=train_pool_gs, plot=True, cv=3)"
   ],
   "metadata": {
    "collapsed": false,
    "ExecuteTime": {
     "end_time": "2024-04-28T19:26:17.277634300Z",
     "start_time": "2024-04-28T19:12:50.202300600Z"
    }
   },
   "id": "87efca1c34c9fd75",
   "execution_count": 288
  },
  {
   "cell_type": "code",
   "outputs": [
    {
     "data": {
      "text/plain": "MetricVisualizer(layout=Layout(align_self='stretch', height='500px'))",
      "application/vnd.jupyter.widget-view+json": {
       "version_major": 2,
       "version_minor": 0,
       "model_id": "a19f405b38c048259c7ee424c090ce8c"
      }
     },
     "metadata": {},
     "output_type": "display_data"
    },
    {
     "name": "stderr",
     "output_type": "stream",
     "text": [
      "Metric NDCG:type=Base is not implemented on GPU. Will use CPU for metric computation, this could significantly affect learning time\n",
      "Metric NDCG:type=Base is not implemented on GPU. Will use CPU for metric computation, this could significantly affect learning time\n",
      "Metric NDCG:top=5;type=Base is not implemented on GPU. Will use CPU for metric computation, this could significantly affect learning time\n",
      "Metric MAP:top=10 is not implemented on GPU. Will use CPU for metric computation, this could significantly affect learning time\n",
      "Metric NDCG:top=10;type=Base is not implemented on GPU. Will use CPU for metric computation, this could significantly affect learning time\n"
     ]
    },
    {
     "data": {
      "text/plain": "<catboost.core.CatBoostRanker at 0x1ae36953210>"
     },
     "execution_count": 308,
     "metadata": {},
     "output_type": "execute_result"
    }
   ],
   "source": [
    "ranker = CatBoostRanker(iterations=10000, \n",
    "                        task_type=\"GPU\",\n",
    "                        devices='0', \n",
    "                        depth=10, \n",
    "                        loss_function='YetiRank', \n",
    "                        metric_period=50,\n",
    "                        l2_leaf_reg= None,\n",
    "                        custom_metric=['NDCG:top=5;hints=skip_train~false', 'MAP:top=10', 'NDCG:top=10;hints=skip_train~false'])\n",
    "\n",
    "\n",
    "\n",
    "# Обучение модели\n",
    "ranker.fit(train_pool, eval_set=test_pool, plot=True, verbose=False)"
   ],
   "metadata": {
    "collapsed": false,
    "ExecuteTime": {
     "end_time": "2024-04-28T19:54:51.361402800Z",
     "start_time": "2024-04-28T19:51:41.378657900Z"
    }
   },
   "id": "b7e9f12a8455526d",
   "execution_count": 308
  },
  {
   "cell_type": "markdown",
   "source": [
    "## Выгрузка модели в pkl для дальнейшего использования"
   ],
   "metadata": {
    "collapsed": false
   },
   "id": "9f2d538d08c5b5d2"
  },
  {
   "cell_type": "code",
   "outputs": [],
   "source": [
    "import pickle\n",
    "\n",
    "pickle.dump(ranker, open('catRanker.pkl', 'wb'))"
   ],
   "metadata": {
    "collapsed": false
   },
   "id": "434b82b12a16d062",
   "execution_count": 114
  },
  {
   "cell_type": "code",
   "outputs": [],
   "source": [
    "import pickle\n",
    "ranker = pickle.load(open('catRanker.pkl', 'rb'))"
   ],
   "metadata": {
    "collapsed": false,
    "ExecuteTime": {
     "end_time": "2024-04-28T19:42:06.844367700Z",
     "start_time": "2024-04-28T19:42:06.729585700Z"
    }
   },
   "id": "30b941cb4e519f93",
   "execution_count": 298
  },
  {
   "cell_type": "code",
   "outputs": [],
   "source": [
    "# Предсказание рангов для тестовой выборки\n",
    "preds = ranker.predict(test_scaled)"
   ],
   "metadata": {
    "collapsed": false,
    "ExecuteTime": {
     "end_time": "2024-04-28T19:54:52.670910600Z",
     "start_time": "2024-04-28T19:54:51.350158300Z"
    }
   },
   "id": "b8c5730c3822f904",
   "execution_count": 309
  },
  {
   "cell_type": "code",
   "outputs": [
    {
     "name": "stdout",
     "output_type": "stream",
     "text": [
      "Average NDCG@5: 0.5899745066488535\n",
      "Average NDCG@50: 0.7482547724312422\n"
     ]
    }
   ],
   "source": [
    "\n",
    "from sklearn.metrics import ndcg_score, label_ranking_average_precision_score\n",
    "\n",
    "# Добавление прогнозов в тестовый набор данных\n",
    "test['preds'] = preds\n",
    "\n",
    "# Группировка по query_id и вычисление NDCG для каждой группы\n",
    "ndcg5_scores = []\n",
    "ndcg50_scores = []\n",
    "for query_id, group in test.groupby('query_id'):\n",
    "    true_relevance = group['rank'].values.reshape(1, -1)\n",
    "    predicted_scores = group['preds'].values.reshape(1, -1)\n",
    "    try:\n",
    "        ndcg = ndcg_score(true_relevance, predicted_scores, k=5)\n",
    "        ndcg5_scores.append(ndcg)\n",
    "        ndcg50_scores.append(ndcg_score(true_relevance, predicted_scores, k=50))\n",
    "    except ValueError:\n",
    "        #print(true_relevance)\n",
    "        #print(predicted_scores)\n",
    "        continue\n",
    "        \n",
    "\n",
    "\n",
    "# Усреднение NDCG по всем группам\n",
    "average_ndcg = np.mean(ndcg5_scores)\n",
    "print(f\"Average NDCG@5: {average_ndcg}\")\n",
    "print(f\"Average NDCG@50: {np.mean(ndcg50_scores)}\")"
   ],
   "metadata": {
    "collapsed": false,
    "ExecuteTime": {
     "end_time": "2024-04-28T19:54:54.648017700Z",
     "start_time": "2024-04-28T19:54:52.672968100Z"
    }
   },
   "id": "8c3bd6e3c820e7cf",
   "execution_count": 310
  },
  {
   "cell_type": "code",
   "outputs": [
    {
     "data": {
      "text/plain": "{'nan_mode': 'Min',\n 'gpu_ram_part': 0.95,\n 'eval_metric': 'NDCG',\n 'iterations': 10000,\n 'leaf_estimation_method': 'Newton',\n 'observations_to_bootstrap': 'TestOnly',\n 'random_score_type': 'NormalWithModelSizeDecrease',\n 'grow_policy': 'SymmetricTree',\n 'penalties_coefficient': 1,\n 'boosting_type': 'Plain',\n 'feature_border_type': 'GreedyLogSum',\n 'bayesian_matrix_reg': 0.10000000149011612,\n 'devices': '0',\n 'eval_fraction': 0,\n 'pinned_memory_bytes': '104857600',\n 'force_unit_auto_pair_weights': False,\n 'l2_leaf_reg': 9.999999682655224e-21,\n 'random_strength': 1,\n 'rsm': 1,\n 'boost_from_average': False,\n 'gpu_cat_features_storage': 'GpuRam',\n 'fold_size_loss_normalization': False,\n 'model_size_reg': 0.5,\n 'pool_metainfo_options': {'tags': {}},\n 'use_best_model': True,\n 'meta_l2_frequency': 0,\n 'random_seed': 0,\n 'depth': 10,\n 'border_count': 128,\n 'min_fold_size': 100,\n 'data_partition': 'DocParallel',\n 'bagging_temperature': 1,\n 'classes_count': 0,\n 'auto_class_weights': 'None',\n 'custom_metric': ['NDCG:top=5;hints=skip_train~false',\n  'MAP:top=10',\n  'NDCG:top=10;hints=skip_train~false'],\n 'leaf_estimation_backtracking': 'No',\n 'best_model_min_trees': 1,\n 'min_data_in_leaf': 1,\n 'add_ridge_penalty_to_loss_function': False,\n 'loss_function': 'YetiRank',\n 'learning_rate': 0.029999999329447743,\n 'meta_l2_exponent': 1,\n 'score_function': 'Cosine',\n 'task_type': 'GPU',\n 'leaf_estimation_iterations': 1,\n 'bootstrap_type': 'Bayesian',\n 'max_leaves': 1024}"
     },
     "execution_count": 301,
     "metadata": {},
     "output_type": "execute_result"
    }
   ],
   "source": [
    "ranker.get_all_params()"
   ],
   "metadata": {
    "collapsed": false,
    "ExecuteTime": {
     "end_time": "2024-04-28T19:42:42.657346Z",
     "start_time": "2024-04-28T19:42:42.648889700Z"
    }
   },
   "id": "6a04761f415dcd9a",
   "execution_count": 301
  },
  {
   "cell_type": "code",
   "outputs": [],
   "source": [
    "def apk(actual, predicted, k=10):\n",
    "    \"\"\"\n",
    "    Computes the average precision at k.\n",
    "    This function computes the average prescision at k between two lists of\n",
    "    items.\n",
    "    Parameters\n",
    "    ----------\n",
    "    actual : list\n",
    "             A list of elements that are to be predicted (order doesn't matter)\n",
    "    predicted : list\n",
    "                A list of predicted elements (order does matter)\n",
    "    k : int, optional\n",
    "        The maximum number of predicted elements\n",
    "    Returns\n",
    "    -------\n",
    "    score : double\n",
    "            The average precision at k over the input lists\n",
    "    \"\"\"\n",
    "    if not actual:\n",
    "        return 0.0\n",
    "\n",
    "    if len(predicted)>k:\n",
    "        predicted = predicted[:k]\n",
    "\n",
    "    score = 0.0\n",
    "    num_hits = 0.0\n",
    "\n",
    "    for i,p in enumerate(predicted):\n",
    "        \n",
    "        if p == actual[i]:\n",
    "            num_hits += 1.0\n",
    "            score += num_hits / (i+1.0)\n",
    "    \n",
    "    if num_hits == 0:\n",
    "        return 0\n",
    "    return score / num_hits\n",
    "\n",
    "def mapk(k=10):\n",
    "    \"\"\"\n",
    "    Computes the mean average precision at k.\n",
    "    This function computes the mean average prescision at k between two lists\n",
    "    of lists of items.\n",
    "    Parameters\n",
    "    ----------\n",
    "    actual : list\n",
    "             A list of lists of elements that are to be predicted \n",
    "             (order doesn't matter in the lists)\n",
    "    predicted : list\n",
    "                A list of lists of predicted elements\n",
    "                (order matters in the lists)\n",
    "    k : int, optional\n",
    "        The maximum number of predicted elements\n",
    "    Returns\n",
    "    -------\n",
    "    score : double\n",
    "            The mean average precision at k over the input lists\n",
    "    \"\"\"\n",
    "    apks = []\n",
    "    for query_id, group in test.groupby('query_id'):\n",
    "        '''print(group['rank'].values)\n",
    "        print(group['preds'].values)\n",
    "        break'''\n",
    "        true_relevance = list(group['rank'].sort_values(ascending=False).index)\n",
    "        predicted_scores = list(group['preds'].sort_values(ascending=False).index)\n",
    "        \n",
    "        try:\n",
    "            apk_curr = apk(true_relevance, predicted_scores, k)\n",
    "            apks.append(apk_curr)\n",
    "        except ValueError as e:\n",
    "            #print(true_relevance)\n",
    "            #print(predicted_scores)\n",
    "            print(e)\n",
    "            continue\n",
    "    return np.mean(apks)"
   ],
   "metadata": {
    "collapsed": false,
    "ExecuteTime": {
     "end_time": "2024-04-28T18:51:49.812017800Z",
     "start_time": "2024-04-28T18:51:49.801066400Z"
    }
   },
   "id": "15e81cff115be4b1",
   "execution_count": 272
  },
  {
   "cell_type": "code",
   "outputs": [
    {
     "data": {
      "text/plain": "0.22257957295370814"
     },
     "execution_count": 311,
     "metadata": {},
     "output_type": "execute_result"
    }
   ],
   "source": [
    "mapk(50)\n"
   ],
   "metadata": {
    "collapsed": false,
    "ExecuteTime": {
     "end_time": "2024-04-28T19:56:45.617057600Z",
     "start_time": "2024-04-28T19:56:44.984828500Z"
    }
   },
   "id": "9ffe992c6c49ac51",
   "execution_count": 311
  },
  {
   "cell_type": "code",
   "outputs": [
    {
     "data": {
      "text/plain": "0.7000000000000001"
     },
     "execution_count": 270,
     "metadata": {},
     "output_type": "execute_result"
    }
   ],
   "source": [
    "apk([1, 2, 3, 4, 5, 6], [1, 0, 0, 4, 5, 8], 6)"
   ],
   "metadata": {
    "collapsed": false,
    "ExecuteTime": {
     "end_time": "2024-04-28T18:51:05.389503500Z",
     "start_time": "2024-04-28T18:51:05.383083600Z"
    }
   },
   "id": "16f8a06a7bf64d7",
   "execution_count": 270
  }
 ],
 "metadata": {
  "kernelspec": {
   "display_name": "Python 3",
   "language": "python",
   "name": "python3"
  },
  "language_info": {
   "codemirror_mode": {
    "name": "ipython",
    "version": 2
   },
   "file_extension": ".py",
   "mimetype": "text/x-python",
   "name": "python",
   "nbconvert_exporter": "python",
   "pygments_lexer": "ipython2",
   "version": "2.7.6"
  }
 },
 "nbformat": 4,
 "nbformat_minor": 5
}
